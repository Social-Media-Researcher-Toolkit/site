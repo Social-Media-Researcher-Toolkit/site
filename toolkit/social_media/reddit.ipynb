{
 "cells": [
  {
   "cell_type": "markdown",
   "id": "0c3544b5-fdfa-404f-8df7-379a9c1ae2a1",
   "metadata": {},
   "source": [
    "# Reddit\n",
    "In this lesson, you'll learn to retrieve data from Reddit using the Python Reddit API Wrapper (PRAW). \n",
    "```{contents}\n",
    "```"
   ]
  },
  {
   "cell_type": "markdown",
<<<<<<< HEAD
   "id": "4ff45060-8859-49a3-83e3-de1b7d61cfc6",
   "metadata": {},
   "source": [
    "## Limitations\n",
    "Reddit data "
=======
   "id": "2c032be7-8e4f-4c99-ab88-8184d733cf4a",
   "metadata": {},
   "source": [
    "## Prerequisites"
   ]
  },
  {
   "cell_type": "code",
   "execution_count": null,
   "id": "1208269b-96ac-4302-b337-e035c541c680",
   "metadata": {},
   "outputs": [],
   "source": [
    "import praw\n",
    "x = 5\n",
    "y = 10\n",
    "z = 10 + 5\n",
    "print(x, y, z)"
>>>>>>> main
   ]
  }
 ],
 "metadata": {
  "kernelspec": {
   "display_name": "Python 3 (ipykernel)",
   "language": "python",
   "name": "python3"
  },
  "language_info": {
   "codemirror_mode": {
    "name": "ipython",
    "version": 3
   },
   "file_extension": ".py",
   "mimetype": "text/x-python",
   "name": "python",
   "nbconvert_exporter": "python",
   "pygments_lexer": "ipython3",
   "version": "3.13.1"
  }
 },
 "nbformat": 4,
 "nbformat_minor": 5
}
