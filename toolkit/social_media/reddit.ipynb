{
 "cells": [
  {
   "cell_type": "markdown",
   "id": "0c3544b5-fdfa-404f-8df7-379a9c1ae2a1",
   "metadata": {},
   "source": [
    "# Reddit\n",
    "In this lesson, you'll learn to retrieve data from Reddit using the Python Reddit API Wrapper (PRAW). \n",
    "```{contents}\n",
    "```"
   ]
  },
  {
   "cell_type": "markdown",
   "id": "4ff45060-8859-49a3-83e3-de1b7d61cfc6",
   "metadata": {},
   "source": [
    "## Limitations\n",
    "Reddit data "
   ]
  }
 ],
 "metadata": {
  "kernelspec": {
   "display_name": "Python 3 (ipykernel)",
   "language": "python",
   "name": "python3"
  },
  "language_info": {
   "codemirror_mode": {
    "name": "ipython",
    "version": 3
   },
   "file_extension": ".py",
   "mimetype": "text/x-python",
   "name": "python",
   "nbconvert_exporter": "python",
   "pygments_lexer": "ipython3",
   "version": "3.13.1"
  }
 },
 "nbformat": 4,
 "nbformat_minor": 5
}
