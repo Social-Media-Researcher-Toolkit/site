{
  "cells": [
    {
      "cell_type": "markdown",
      "metadata": {
        "id": "AUBSAr6Rfz_k"
      },
      "source": [
        "# 4chan"
      ]
    },
    {
      "cell_type": "markdown",
      "metadata": {},
      "source": [
        "4chan is an anonymous English-language imageboard website. The site hosts boards dedicated to a wide variety of topics, from video games and television to literature, cooking, weapons, music, history, technology, anime, physical fitness, politics, and sports, among others. Users typically post anonymously, but have the option to register an email. As of 2022, 4chan receives more than 22 million unique monthly visitors, of whom approximately half are from the United States."
      ]
    },
    {
      "cell_type": "markdown",
      "metadata": {
        "id": "_VXZgbfef3M4"
      },
      "source": [
        "## Prerequistes\n",
        "\n",
        "To scrape 4chan, we will be using the basc-4chan library. The library is a wrapper around the 4chan API that allows you to access information in an object-oriented way, which we will see is very useful. The library contains 3 main objects: ```board```, ```thread```, and ```post```. At a top level, a ```board``` contains all the ```threads``` in that borad, and a ```thread``` contains all the ```files``` and ```posts``` in that thread. ```posts``` also contain any ```files``` that are attached to that specific post. No prequisites are required to use the library."
      ]
    },
    {
      "cell_type": "code",
      "execution_count": null,
      "metadata": {
        "colab": {
          "base_uri": "https://localhost:8080/"
        },
        "id": "yssGVfx_JiaE",
        "outputId": "5081738b-16a5-4679-f936-5a27ed5f7974"
      },
      "outputs": [],
      "source": [
        "pip install basc-py4chan"
      ]
    },
    {
      "cell_type": "code",
      "execution_count": null,
      "metadata": {
        "id": "Nm_JJUpRJmzt"
      },
      "outputs": [],
      "source": [
        "import basc_py4chan as chan"
      ]
    },
    {
      "cell_type": "markdown",
      "metadata": {
        "id": "Pnvik0sTgZT0"
      },
      "source": [
        "## Collecting Information\n",
        "\n",
        "With this library, we can first access information in a board through ```.Board()```). We can then puruse specific threads within a board by first getting the id of the thread through ```get_all_thread_ids()``` and then actually access one thread through ```get_thread()``` and then ```expand()```.\n",
        "\n",
        "From this thread we can get information on the any files posted on the thread from ```.file_objects()``` and of course any comments in the thread with ```.posts```. Note that ```posts``` is an attribute of the thread, a list of of all ```post``` objects, and not a function, which is why we had to call ```expand()``` on the thread object earlier in order to fill this information.\n",
        "\n",
        "As standard, every ```file``` object will have information on ```filename```,  ```file_extension```, ```file_md5```,  and even ```file_url```. A full list of attibutes can be found through the documentation listed [below](#scrollTo=kloHY_0phYvd). Files can also be accesed through the ```post``` object, allowing you to track what user sends what  file.\n",
        "\n",
        "Every ```post``` has attributes on the ```text_comment```, ```url```, ```poster_id```, **and even the posters's ```email```** (assuming there is one assigned to the account). Again, the full list of attributes can be found, can be found in the [documentation](#scrollTo=kloHY_0phYvd)\n",
        "\n",
        "Interestingly, there are no visible rate limits on this API, limit testing is an excersise left to the reader.\n",
        "\n",
        "An example of the application of some of the attributes and functions explained above can be found below."
      ]
    },
    {
      "cell_type": "code",
      "execution_count": null,
      "metadata": {
        "colab": {
          "background_save": true
        },
        "id": "vehEaChmJpBo",
        "outputId": "18d7f99a-d7f3-4d30-d0c2-58c1ee256a4f"
      },
      "outputs": [],
      "source": [
        "b = chan.Board('pol')\n",
        "j = 0\n",
        "for tid in b.get_all_thread_ids():\n",
        "  thread = b.get_thread(tid)\n",
        "  thread.expand()\n",
        "  print(f\"Thread: {thread.url}\\n\\n\\n\")\n",
        "  print(\"Files:\")\n",
        "  for f in thread.file_objects():\n",
        "    print(f\"{f.filename_original} : {f.file_url}\")\n",
        "  j+=1\n",
        "  if j == 5:\n",
        "    break\n",
        "  for post in thread.posts:\n",
        "    i = 0\n",
        "    print(f\"\\t{post.poster_id}: {post.comment}\")\n",
        "  # topic = thread.topic\n",
        "  # # print(f\"Name: \\\"{topic.name}\\\", Comment: \\\"{topic.comment}\\\"\")\n",
        "  # topic = thread.topic\n",
        "    i+=1\n",
        "    if i == 5:\n",
        "      break"
      ]
    },
    {
      "cell_type": "markdown",
      "metadata": {
        "id": "kloHY_0phYvd"
      },
      "source": [
        "# Further Learning\n",
        "\n",
        "Documentation of the basc-py4chan library and its extended features can be found [here](https://basc-py4chan.readthedocs.io/en/latest/index.html)"
      ]
    }
  ],
  "metadata": {
    "colab": {
      "provenance": []
    },
    "kernelspec": {
      "display_name": "Python 3",
      "name": "python3"
    },
    "language_info": {
      "name": "python"
    }
  },
  "nbformat": 4,
  "nbformat_minor": 0
}
