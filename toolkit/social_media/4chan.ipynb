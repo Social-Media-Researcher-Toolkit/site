{
  "cells": [
    {
      "cell_type": "markdown",
      "metadata": {
        "id": "AUBSAr6Rfz_k"
      },
      "source": [
        "# 4chan"
      ]
    },
    {
      "cell_type": "markdown",
      "metadata": {
        "id": "_VXZgbfef3M4"
      },
      "source": [
        "## Prerequistes\n",
        "\n",
        "To scrape 4chan, we will be using the basc-4chan library. The library is a wrapper around the 4chan API that allows you to access information in an object-oriented way, which we will see is very useful. The library contains 3 main objects: ```board```, ```thread```, and ```post```. At a top level, a ```board``` contains all the ```threads``` in that borad, and a ```thread``` contains all the ```files``` and ```posts``` in that thread. ```thread```. ```posts``` also contain any ```files``` that are attached to that specific post. No prequisites are required to use the library."
      ]
    },
    {
      "cell_type": "code",
      "execution_count": null,
      "metadata": {
        "colab": {
          "base_uri": "https://localhost:8080/"
        },
        "id": "yssGVfx_JiaE",
        "outputId": "5081738b-16a5-4679-f936-5a27ed5f7974"
      },
      "outputs": [
        {
          "name": "stdout",
          "output_type": "stream",
          "text": [
            "Collecting basc-py4chan\n",
            "  Downloading BASC-py4chan-0.6.6.tar.gz (11 kB)\n",
            "  Preparing metadata (setup.py) ... \u001b[?25l\u001b[?25hdone\n",
            "Requirement already satisfied: requests>=1.0.0 in /usr/local/lib/python3.11/dist-packages (from basc-py4chan) (2.32.3)\n",
            "Requirement already satisfied: charset-normalizer<4,>=2 in /usr/local/lib/python3.11/dist-packages (from requests>=1.0.0->basc-py4chan) (3.4.1)\n",
            "Requirement already satisfied: idna<4,>=2.5 in /usr/local/lib/python3.11/dist-packages (from requests>=1.0.0->basc-py4chan) (3.10)\n",
            "Requirement already satisfied: urllib3<3,>=1.21.1 in /usr/local/lib/python3.11/dist-packages (from requests>=1.0.0->basc-py4chan) (2.3.0)\n",
            "Requirement already satisfied: certifi>=2017.4.17 in /usr/local/lib/python3.11/dist-packages (from requests>=1.0.0->basc-py4chan) (2025.1.31)\n",
            "Building wheels for collected packages: basc-py4chan\n",
            "  Building wheel for basc-py4chan (setup.py) ... \u001b[?25l\u001b[?25hdone\n",
            "  Created wheel for basc-py4chan: filename=BASC_py4chan-0.6.6-py3-none-any.whl size=14112 sha256=3dca57e58d322d57e86d793697a531f0c1356341054dc0cc3237a41a2a75d532\n",
            "  Stored in directory: /root/.cache/pip/wheels/e2/24/88/c3dcbc470d0b49812daa4efad086ef7991dd7792a5e81d7cad\n",
            "Successfully built basc-py4chan\n",
            "Installing collected packages: basc-py4chan\n",
            "Successfully installed basc-py4chan-0.6.6\n"
          ]
        }
      ],
      "source": [
        "pip install basc-py4chan"
      ]
    },
    {
      "cell_type": "code",
      "execution_count": null,
      "metadata": {
        "id": "Nm_JJUpRJmzt"
      },
      "outputs": [],
      "source": [
        "import basc_py4chan as chan"
      ]
    },
    {
      "cell_type": "markdown",
      "metadata": {
        "id": "Pnvik0sTgZT0"
      },
      "source": [
        "## Collecting Information\n",
        "\n",
        "With this library, we can first access information in a board through ```.Board()```). We can then puruse specific threads within a board by first getting the id of the thread through ```get_all_thread_ids()``` and then actually access one thread through ```get_thread()``` and then ```expand()```.\n",
        "\n",
        "From this thread we can get information on the any files posted on the thread from ```.file_objects()``` and of course any comments in the thread with ```.posts```. Note that ```posts``` is an attribute of the thread, a list of of all ```post``` objects, and not a function, which is why we had to call ```expand()``` on the thread object earlier in order to fill this information.\n",
        "\n",
        "As standard, every ```file``` object will have information on ```filename```,  ```file_extension```, ```file_md5```,  and even ```file_url``` if you for some reason want to view files on 4chan or would like to look at slurs. A full list of attibutes can be found through the documentation listed [below](#scrollTo=kloHY_0phYvd). Files can also be accesed through the ```post``` object, allowing you to track what user sends what  file.\n",
        "\n",
        "Every ```post``` has attributes on the ```text_comment```, ```url```, ```poster_id```, **and even the posters's ```email```** (assuming there is one assigned to the account). Again, the full list of attributes can be found, can be found in the [documentation](#scrollTo=kloHY_0phYvd)\n",
        "\n",
        "Interestingly, there are no visible rate limits on this API, limit testing is an excersise left to the reader.\n",
        "\n",
        "An example of the application of some of the attributes and functions explained above can be found below."
      ]
    },
    {
      "cell_type": "code",
      "execution_count": null,
      "metadata": {
        "colab": {
          "background_save": true
        },
        "id": "vehEaChmJpBo",
        "outputId": "18d7f99a-d7f3-4d30-d0c2-58c1ee256a4f"
      },
      "outputs": [
        {
          "ename": "HTTPError",
          "evalue": "522 Server Error:  for url: https://a.4cdn.org/pol/threads.json",
          "output_type": "error",
          "traceback": [
            "\u001b[0;31m---------------------------------------------------------------------------\u001b[0m",
            "\u001b[0;31mHTTPError\u001b[0m                                 Traceback (most recent call last)",
            "\u001b[0;32m<ipython-input-3-8c25fdafc432>\u001b[0m in \u001b[0;36m<cell line: 0>\u001b[0;34m()\u001b[0m\n\u001b[1;32m      1\u001b[0m \u001b[0mb\u001b[0m \u001b[0;34m=\u001b[0m \u001b[0mchan\u001b[0m\u001b[0;34m.\u001b[0m\u001b[0mBoard\u001b[0m\u001b[0;34m(\u001b[0m\u001b[0;34m'pol'\u001b[0m\u001b[0;34m)\u001b[0m\u001b[0;34m\u001b[0m\u001b[0;34m\u001b[0m\u001b[0m\n\u001b[1;32m      2\u001b[0m \u001b[0mj\u001b[0m \u001b[0;34m=\u001b[0m \u001b[0;36m0\u001b[0m\u001b[0;34m\u001b[0m\u001b[0;34m\u001b[0m\u001b[0m\n\u001b[0;32m----> 3\u001b[0;31m \u001b[0;32mfor\u001b[0m \u001b[0mtid\u001b[0m \u001b[0;32min\u001b[0m \u001b[0mb\u001b[0m\u001b[0;34m.\u001b[0m\u001b[0mget_all_thread_ids\u001b[0m\u001b[0;34m(\u001b[0m\u001b[0;34m)\u001b[0m\u001b[0;34m:\u001b[0m\u001b[0;34m\u001b[0m\u001b[0;34m\u001b[0m\u001b[0m\n\u001b[0m\u001b[1;32m      4\u001b[0m   \u001b[0mthread\u001b[0m \u001b[0;34m=\u001b[0m \u001b[0mb\u001b[0m\u001b[0;34m.\u001b[0m\u001b[0mget_thread\u001b[0m\u001b[0;34m(\u001b[0m\u001b[0mtid\u001b[0m\u001b[0;34m)\u001b[0m\u001b[0;34m\u001b[0m\u001b[0;34m\u001b[0m\u001b[0m\n\u001b[1;32m      5\u001b[0m   \u001b[0mthread\u001b[0m\u001b[0;34m.\u001b[0m\u001b[0mexpand\u001b[0m\u001b[0;34m(\u001b[0m\u001b[0;34m)\u001b[0m\u001b[0;34m\u001b[0m\u001b[0;34m\u001b[0m\u001b[0m\n",
            "\u001b[0;32m/usr/local/lib/python3.11/dist-packages/basc_py4chan/board.py\u001b[0m in \u001b[0;36mget_all_thread_ids\u001b[0;34m(self)\u001b[0m\n\u001b[1;32m    214\u001b[0m             \u001b[0mlist\u001b[0m \u001b[0mof\u001b[0m \u001b[0mints\u001b[0m\u001b[0;34m:\u001b[0m \u001b[0mList\u001b[0m \u001b[0mof\u001b[0m \u001b[0mIDs\u001b[0m \u001b[0mof\u001b[0m \u001b[0mevery\u001b[0m \u001b[0mthread\u001b[0m \u001b[0mon\u001b[0m \u001b[0mthis\u001b[0m \u001b[0mboard\u001b[0m\u001b[0;34m.\u001b[0m\u001b[0;34m\u001b[0m\u001b[0;34m\u001b[0m\u001b[0m\n\u001b[1;32m    215\u001b[0m         \"\"\"\n\u001b[0;32m--> 216\u001b[0;31m         \u001b[0mjson\u001b[0m \u001b[0;34m=\u001b[0m \u001b[0mself\u001b[0m\u001b[0;34m.\u001b[0m\u001b[0m_get_json\u001b[0m\u001b[0;34m(\u001b[0m\u001b[0mself\u001b[0m\u001b[0;34m.\u001b[0m\u001b[0m_url\u001b[0m\u001b[0;34m.\u001b[0m\u001b[0mthread_list\u001b[0m\u001b[0;34m(\u001b[0m\u001b[0;34m)\u001b[0m\u001b[0;34m)\u001b[0m\u001b[0;34m\u001b[0m\u001b[0;34m\u001b[0m\u001b[0m\n\u001b[0m\u001b[1;32m    217\u001b[0m         \u001b[0;32mreturn\u001b[0m \u001b[0;34m[\u001b[0m\u001b[0mthread\u001b[0m\u001b[0;34m[\u001b[0m\u001b[0;34m'no'\u001b[0m\u001b[0;34m]\u001b[0m \u001b[0;32mfor\u001b[0m \u001b[0mpage\u001b[0m \u001b[0;32min\u001b[0m \u001b[0mjson\u001b[0m \u001b[0;32mfor\u001b[0m \u001b[0mthread\u001b[0m \u001b[0;32min\u001b[0m \u001b[0mpage\u001b[0m\u001b[0;34m[\u001b[0m\u001b[0;34m'threads'\u001b[0m\u001b[0;34m]\u001b[0m\u001b[0;34m]\u001b[0m\u001b[0;34m\u001b[0m\u001b[0;34m\u001b[0m\u001b[0m\n\u001b[1;32m    218\u001b[0m \u001b[0;34m\u001b[0m\u001b[0m\n",
            "\u001b[0;32m/usr/local/lib/python3.11/dist-packages/basc_py4chan/board.py\u001b[0m in \u001b[0;36m_get_json\u001b[0;34m(self, url)\u001b[0m\n\u001b[1;32m    105\u001b[0m     \u001b[0;32mdef\u001b[0m \u001b[0m_get_json\u001b[0m\u001b[0;34m(\u001b[0m\u001b[0mself\u001b[0m\u001b[0;34m,\u001b[0m \u001b[0murl\u001b[0m\u001b[0;34m)\u001b[0m\u001b[0;34m:\u001b[0m\u001b[0;34m\u001b[0m\u001b[0;34m\u001b[0m\u001b[0m\n\u001b[1;32m    106\u001b[0m         \u001b[0mres\u001b[0m \u001b[0;34m=\u001b[0m \u001b[0mself\u001b[0m\u001b[0;34m.\u001b[0m\u001b[0m_requests_session\u001b[0m\u001b[0;34m.\u001b[0m\u001b[0mget\u001b[0m\u001b[0;34m(\u001b[0m\u001b[0murl\u001b[0m\u001b[0;34m)\u001b[0m\u001b[0;34m\u001b[0m\u001b[0;34m\u001b[0m\u001b[0m\n\u001b[0;32m--> 107\u001b[0;31m         \u001b[0mres\u001b[0m\u001b[0;34m.\u001b[0m\u001b[0mraise_for_status\u001b[0m\u001b[0;34m(\u001b[0m\u001b[0;34m)\u001b[0m\u001b[0;34m\u001b[0m\u001b[0;34m\u001b[0m\u001b[0m\n\u001b[0m\u001b[1;32m    108\u001b[0m         \u001b[0;32mreturn\u001b[0m \u001b[0mres\u001b[0m\u001b[0;34m.\u001b[0m\u001b[0mjson\u001b[0m\u001b[0;34m(\u001b[0m\u001b[0;34m)\u001b[0m\u001b[0;34m\u001b[0m\u001b[0;34m\u001b[0m\u001b[0m\n\u001b[1;32m    109\u001b[0m \u001b[0;34m\u001b[0m\u001b[0m\n",
            "\u001b[0;32m/usr/local/lib/python3.11/dist-packages/requests/models.py\u001b[0m in \u001b[0;36mraise_for_status\u001b[0;34m(self)\u001b[0m\n\u001b[1;32m   1022\u001b[0m \u001b[0;34m\u001b[0m\u001b[0m\n\u001b[1;32m   1023\u001b[0m         \u001b[0;32mif\u001b[0m \u001b[0mhttp_error_msg\u001b[0m\u001b[0;34m:\u001b[0m\u001b[0;34m\u001b[0m\u001b[0;34m\u001b[0m\u001b[0m\n\u001b[0;32m-> 1024\u001b[0;31m             \u001b[0;32mraise\u001b[0m \u001b[0mHTTPError\u001b[0m\u001b[0;34m(\u001b[0m\u001b[0mhttp_error_msg\u001b[0m\u001b[0;34m,\u001b[0m \u001b[0mresponse\u001b[0m\u001b[0;34m=\u001b[0m\u001b[0mself\u001b[0m\u001b[0;34m)\u001b[0m\u001b[0;34m\u001b[0m\u001b[0;34m\u001b[0m\u001b[0m\n\u001b[0m\u001b[1;32m   1025\u001b[0m \u001b[0;34m\u001b[0m\u001b[0m\n\u001b[1;32m   1026\u001b[0m     \u001b[0;32mdef\u001b[0m \u001b[0mclose\u001b[0m\u001b[0;34m(\u001b[0m\u001b[0mself\u001b[0m\u001b[0;34m)\u001b[0m\u001b[0;34m:\u001b[0m\u001b[0;34m\u001b[0m\u001b[0;34m\u001b[0m\u001b[0m\n",
            "\u001b[0;31mHTTPError\u001b[0m: 522 Server Error:  for url: https://a.4cdn.org/pol/threads.json"
          ]
        }
      ],
      "source": [
        "b = chan.Board('pol')\n",
        "j = 0\n",
        "for tid in b.get_all_thread_ids():\n",
        "  thread = b.get_thread(tid)\n",
        "  thread.expand()\n",
        "  print(f\"Thread: {thread.url}\\n\\n\\n\")\n",
        "  print(\"Files:\")\n",
        "  for f in thread.file_objects():\n",
        "    print(f\"{f.filename_original} : {f.file_url}\")\n",
        "  j+=1\n",
        "  if j == 5:\n",
        "    break\n",
        "  for post in thread.posts:\n",
        "    i = 0\n",
        "    print(f\"\\t{post.poster_id}: {post.comment}\")\n",
        "  # topic = thread.topic\n",
        "  # # print(f\"Name: \\\"{topic.name}\\\", Comment: \\\"{topic.comment}\\\"\")\n",
        "  # topic = thread.topic\n",
        "    i+=1\n",
        "    if i == 5:\n",
        "      break"
      ]
    },
    {
      "cell_type": "markdown",
      "metadata": {
        "id": "kloHY_0phYvd"
      },
      "source": [
        "# Further Learning\n",
        "\n",
        "Documentation of the basc-py4chan library and its extended features can be found [here](https://basc-py4chan.readthedocs.io/en/latest/index.html)"
      ]
    }
  ],
  "metadata": {
    "colab": {
      "provenance": []
    },
    "kernelspec": {
      "display_name": "Python 3",
      "name": "python3"
    },
    "language_info": {
      "name": "python"
    }
  },
  "nbformat": 4,
  "nbformat_minor": 0
}