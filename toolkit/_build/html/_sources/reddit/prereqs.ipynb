{
 "cells": [
  {
   "cell_type": "markdown",
   "id": "7dcd2b33-a0a2-4627-b8df-6fc5d88e2cda",
   "metadata": {},
   "source": [
    "# Installing PSAW and PRAW\n",
    "\n",
    "The first step is to install the packages we'll be using to interface with the Reddit API. "
   ]
  }
 ],
 "metadata": {
  "kernelspec": {
   "display_name": "Python 3 (ipykernel)",
   "language": "python",
   "name": "python3"
  },
  "language_info": {
   "codemirror_mode": {
    "name": "ipython",
    "version": 3
   },
   "file_extension": ".py",
   "mimetype": "text/x-python",
   "name": "python",
   "nbconvert_exporter": "python",
   "pygments_lexer": "ipython3",
   "version": "3.12.4"
  }
 },
 "nbformat": 4,
 "nbformat_minor": 5
}
