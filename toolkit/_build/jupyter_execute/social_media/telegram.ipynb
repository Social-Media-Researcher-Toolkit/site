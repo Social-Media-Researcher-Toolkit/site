{
 "cells": [
  {
   "cell_type": "markdown",
   "id": "c375936f-7792-4677-b69e-14958a3bc7b5",
   "metadata": {},
   "source": [
    "# Telegram"
   ]
  },
  {
   "cell_type": "markdown",
   "id": "f1007084-b66d-4e9e-afed-cd530a39beb0",
   "metadata": {},
   "source": [
    "## About Telegram\n",
    "This is a section about Telegram.\n",
    "\n",
    "## Prerequisites\n",
    "The following steps are necessary in order to be able to create a script to get data from Telegram.\n",
    "### Create a new folder\n",
    "This tutorial is going to use 2 files: the Python script, in a .py file, and a .env file to store credentials. Create a new folder somewhere on your computer to store these files.\n",
    "\n",
    "Once you've created a folder, go ahead and create 2 files: \"script.py\" and \".env\" so that your directory tree looks something like\n",
    "\n",
    "```\n",
    "-- Project Folder\n",
    "   | script.py\n",
    "   | .env\n",
    "```\n",
    "### Telegram Credentials\n",
    "We're going to need an api_id and an api_hash value from Telegram in order to access its API. These are granted to users that register an app with Telegram.\n",
    "\n",
    "First, [create a Telegram account](https://telegram.org/sign-up) if you don't already have one.\n",
    "\n",
    "Then, head over to [this link](https://my.telegram.org/). Login and press the \"API development tools\" button.  Grab the api_id and api_hash values and store them in your .env file to use later.\n",
    "\n",
    "![TELEGRAM APP EXAMPLE](images/telegram1.png)"
   ]
  },
  {
   "cell_type": "markdown",
   "id": "4b7d1fee-2aae-4404-aa4c-de4b0a846936",
   "metadata": {},
   "source": [
    "In **.env**:\n",
    "```Python\n",
    "TELEGRAM_API_ID = \"<your telegram api id>\"\n",
    "TELEGRAM_API_HASH = \"<your telegram api hash>\"\n",
    "PHONE_NUMBER = \"<your phone number (starting with +)>\"\n",
    "```"
   ]
  },
  {
   "cell_type": "markdown",
   "id": "e6e9a4d9-fd77-4466-bd6a-463051247944",
   "metadata": {},
   "source": [
    "## Installing Telethon\n",
    "The library that we're going to use to scrape messages from Telegram channels is called [Telethon](https://docs.telethon.dev/en/stable/). We'll also use the [dotenv](https://pypi.org/project/python-dotenv/) library to load credentials from the .env file."
   ]
  },
  {
   "cell_type": "markdown",
   "id": "4c11f1b4-bb32-4761-a5d6-689329ea17e5",
   "metadata": {},
   "source": [
    "To install Telethon and dotenv, run the following commands in your terminal:\n",
    "```bash\n",
    "pip install telethon\n",
    "pip install python-dotenv\n",
    "```"
   ]
  },
  {
   "cell_type": "markdown",
   "id": "182332d5-e116-40c2-9c22-f52d5410bfab",
   "metadata": {},
   "source": [
    "This installs the package so we can use it on our local machine.\n",
    "\n",
    "```{note}\n",
    "When installing on your machine, use \"pip\" on Windows or \"pip3\" on MacOS - if you need more guidance, check out [this guide](https://python.land/virtual-environments/installing-packages-with-pip)\n",
    "```"
   ]
  },
  {
   "cell_type": "markdown",
   "id": "f0438246-cbb6-470f-be8c-ecbbac787bf3",
   "metadata": {},
   "source": [
    "## Basics\n",
    "Now that we have the credentials ready and telethon installed, we can start script writing. The first step is to import the TelegramClient class from the telethon package so we can use it in our script:"
   ]
  },
  {
   "cell_type": "code",
   "execution_count": 1,
   "id": "cadc1a24-7559-4856-a5a5-6f306ba4b245",
   "metadata": {},
   "outputs": [],
   "source": [
    "#script.py\n",
    "\n",
    "from telethon import TelegramClient"
   ]
  },
  {
   "cell_type": "markdown",
   "id": "ed45d5b9-e3b4-4516-8db5-fc4b891df597",
   "metadata": {},
   "source": [
    "Next we need to load our .env variables that we set earlier. To do this we'll use the dotenv library that we installed. Use the following code to set your environment variables:"
   ]
  },
  {
   "cell_type": "code",
   "execution_count": 2,
   "id": "0fcdbc40-3012-4dd6-88f5-a063f0e289e4",
   "metadata": {},
   "outputs": [],
   "source": [
    "from dotenv import load_dotenv\n",
    "import os\n",
    "\n",
    "'''this line parses the .env file and loads \n",
    "the variables into the current process to \n",
    "allow the os to access the variables from your \n",
    ".env file.'''\n",
    "load_dotenv()\n",
    "\n",
    "TELEGRAM_API_ID = os.getenv(\"TELEGRAM_API_ID\")\n",
    "TELEGRAM_API_HASH = os.getenv(\"TELEGRAM_API_HASH\")\n",
    "PHONE_NUMBER = os.getenv(\"PHONE_NUMBER\")"
   ]
  },
  {
   "cell_type": "markdown",
   "id": "01c2c3a7-17cc-4bb2-b416-977c2e84933e",
   "metadata": {},
   "source": [
    "The TelegramClient object class is how we will interface with Telegram. It takes in 3 arguments, all strings:\n",
    "```python\n",
    "TelegramClient(<session_name>, <telegram_api_id>, <telegram_api_hash>)\n",
    "```\n",
    "The first argument is the session name. The Telethon library stores each login in a session file. This session file stores login information so that the API user only has to go through the login process once. Any string works, as long as it's consistent whenever you create a new TelegramClient object with the same Telegram account. It makes sense to use the username of the account the session will be associated with as a session name to keep things simple.\n",
    "\n",
    "The last 2 arguments should look familiar- those are the login credentials stored in the .env file.\n",
    "\n",
    "The TelegramClient object allows us to collect data using the credentials we obtained from [my.telegram.org](https://my.telegram.org). To start, we can request information about our account to verify that our credentials are working."
   ]
  },
  {
   "cell_type": "code",
   "execution_count": 3,
   "id": "619675c4-6e7d-42a5-a3f9-13da70e3f4b3",
   "metadata": {},
   "outputs": [
    {
     "name": "stdout",
     "output_type": "stream",
     "text": [
      "simpatbos\n"
     ]
    }
   ],
   "source": [
    "client = TelegramClient(\"simpatbos\", TELEGRAM_API_ID, TELEGRAM_API_HASH)\n",
    "\n",
    "async def main():\n",
    "    await client.connect() #sends a request to connect\n",
    "\n",
    "    if not await client.is_user_authorized(): #if there's no session file, we need to request a verification code and login\n",
    "        print(\"Sending code...\")\n",
    "        await client.send_code_request(PHONE_NUMBER)\n",
    "        code = input(\"Enter the code you received: \")\n",
    "        await client.sign_in(PHONE_NUMBER, code)\n",
    "\n",
    "    me = await client.get_me() #the get_me method returns info about the logged in user\n",
    "    print(me.username)\n",
    "    client.disconnect()\n",
    "        \n",
    "await main()"
   ]
  },
  {
   "cell_type": "markdown",
   "id": "750b66f3-a2a5-4f2d-a711-c278cfcd20bd",
   "metadata": {},
   "source": [
    "```{note}\n",
    "The \"async\" and \"await\" keywords are necessary. The await keyword pauses excecution until the current task is finished. The async keyword tells the script that the function will include await statements.\n",
    "```"
   ]
  },
  {
   "cell_type": "markdown",
   "id": "ee09f65a-f4e3-4feb-8335-1af9b0dfeb64",
   "metadata": {},
   "source": [
    "After inputting the login code, the script output \"simpatbos\", the username of the author. Our script works!"
   ]
  },
  {
   "cell_type": "markdown",
   "id": "ca26989a-4e68-49de-be6d-fa75ef43a759",
   "metadata": {},
   "source": [
    "## Collecting Data\n",
    "\n",
    "Now that we're logged in, we can start to collect data. We'll use various methods of the client class in order to collect data.\n",
    "\n",
    "### Getting a Channel Object\n",
    "\n",
    "To get data from a channel, we first have to obtain an object that represents the channel. To do this, we'll use the\n",
    "```python\n",
    "client.get_entity()\n",
    "```"
   ]
  },
  {
   "cell_type": "markdown",
   "id": "16c037d5-b51a-486e-b95b-eca95e801dea",
   "metadata": {},
   "source": [
    "method. This method allows us to get an entity (a fancy word for a User, Chat or Channel object). This method only takes 1 argument, the name, id, or link to a user, chat or channel. \n",
    "\n",
    "**Example:** Getting the offical New York Times chat. The chat is called \"nytimes\"."
   ]
  },
  {
   "cell_type": "code",
   "execution_count": 4,
   "id": "f368ad84-9d0b-41d8-9e62-794682222a8c",
   "metadata": {},
   "outputs": [
    {
     "name": "stdout",
     "output_type": "stream",
     "text": [
      "The New York Times\n"
     ]
    }
   ],
   "source": [
    "async with TelegramClient(\"simpatbos\", TELEGRAM_API_ID, TELEGRAM_API_HASH) as client:\n",
    "    channel_name = \"nytimes\"\n",
    "    nytimes_channel = await client.get_entity(channel_name)\n",
    "    print(nytimes_channel.title)"
   ]
  },
  {
   "cell_type": "markdown",
   "id": "6b713503-943d-4125-9317-e1617fab1270",
   "metadata": {},
   "source": [
    "```{note}\n",
    "Try printing the nytimes_channel object instead of the nytimes_channel.title attribute. You can observe all the attributes that are available for data collection.\n",
    "```"
   ]
  },
  {
   "cell_type": "markdown",
   "id": "afba7866-1484-44f7-8409-ef8a656db4d4",
   "metadata": {},
   "source": [
    "### Collecting Chat Messages\n",
    "To get the messages from a given channel, we'll use the\n",
    "```python\n",
    "client.iter_messages()\n",
    "```\n",
    "method. This method takes the name, id or link to a channel and returns an iterable with every single message object. It also takes a limit argument, which sets the maximum amount of messages to be retrieved. (You can omit the limit argument to get all messages.)\n",
    "\n",
    "**Example:** Getting the messages from the offical New York times chat."
   ]
  },
  {
   "cell_type": "code",
   "execution_count": 5,
   "id": "d574cf17-33bd-422d-97ba-726d008bae46",
   "metadata": {},
   "outputs": [
    {
     "name": "stdout",
     "output_type": "stream",
     "text": [
      "2025-04-02 19:19:03+00:00\n",
      "2025-04-01 18:39:58+00:00\n",
      "2025-03-31 19:59:24+00:00\n",
      "2025-03-28 19:23:00+00:00\n",
      "2025-03-27 19:47:07+00:00\n",
      "2025-03-26 19:32:46+00:00\n",
      "2025-03-25 18:46:01+00:00\n",
      "2025-03-24 19:08:03+00:00\n",
      "2025-03-21 19:30:57+00:00\n",
      "2025-03-20 19:27:00+00:00\n"
     ]
    }
   ],
   "source": [
    "async with TelegramClient(\"simpatbos\", TELEGRAM_API_ID, TELEGRAM_API_HASH) as client:\n",
    "    channel_name = \"nytimes\"\n",
    "    limit = 10\n",
    "    async for message in client.iter_messages(channel_name, limit):\n",
    "        print(message.date)"
   ]
  },
  {
   "cell_type": "markdown",
   "id": "9016ba1d-6ea9-4791-8f0b-8a916d8b9a89",
   "metadata": {},
   "source": [
    "#### Search Queries\n",
    "\n",
    "You can also return messages that include a search query using the search argument.\n",
    "\n",
    "**Example:** Getting all messages from the offical New York Times chat that include the word \"ran\" "
   ]
  },
  {
   "cell_type": "code",
   "execution_count": 6,
   "id": "bed51d88-e1d0-443e-b1ec-1584f6c2c99f",
   "metadata": {},
   "outputs": [
    {
     "name": "stdout",
     "output_type": "stream",
     "text": [
      "2023-04-07 01:36:51+00:00\n",
      "2022-05-22 15:28:13+00:00\n",
      "2022-04-21 22:35:11+00:00\n",
      "2022-04-12 20:44:45+00:00\n",
      "2022-03-28 05:58:34+00:00\n"
     ]
    }
   ],
   "source": [
    "async with TelegramClient(\"simpatbos\", TELEGRAM_API_ID, TELEGRAM_API_HASH) as client:\n",
    "    channel_name = \"nytimes\"\n",
    "    query = \"ran\"\n",
    "    async for message in client.iter_messages(channel_name, search=query):\n",
    "        print(message.date)"
   ]
  },
  {
   "cell_type": "markdown",
   "id": "b841ae04-09ae-4a3c-a667-b4124c45c24f",
   "metadata": {},
   "source": [
    "#### Date offset\n",
    "You can also return messages that come before a certain date with the offset_date argument. This argument is of type datetime, which you can read about [here](https://www.w3schools.com/python/python_datetime.asp). The date given is NOT included in the returned messages.\n",
    "\n",
    "**Example:** Getting all messages from the offical New York Times chat that include the word \"Trump\" from before April 2 2024."
   ]
  },
  {
   "cell_type": "code",
   "execution_count": 7,
   "id": "512f6572-b130-4387-8f3d-697e08bd5ce3",
   "metadata": {},
   "outputs": [
    {
     "name": "stdout",
     "output_type": "stream",
     "text": [
      "2024-02-12 20:20:18+00:00\n",
      "2023-11-20 20:33:54+00:00\n",
      "2023-11-16 20:53:51+00:00\n",
      "2023-08-14 19:39:56+00:00\n",
      "2023-03-31 19:10:12+00:00\n",
      "2022-05-20 21:19:43+00:00\n",
      "2022-05-13 09:25:18+00:00\n"
     ]
    }
   ],
   "source": [
    "import datetime\n",
    "\n",
    "async with TelegramClient(\"simpatbos\", TELEGRAM_API_ID, TELEGRAM_API_HASH) as client:\n",
    "    channel_name = \"nytimes\"\n",
    "    query = \"Trump\"\n",
    "    before = datetime.datetime(2024, 4, 2)\n",
    "    async for message in client.iter_messages(channel_name, search=query, offset_date=before):\n",
    "        print(message.date)"
   ]
  },
  {
   "cell_type": "markdown",
   "id": "78019c06-74d2-4fe8-a090-e0b9f4664bf1",
   "metadata": {},
   "source": [
    "### Getting a Message's Sender\n",
    "The message object contains a reference to the sender object. You can obtain information about the sender of the message with this object.\n",
    "\n",
    "**Example:** Getting the names of the last 10 users to send messages in the \"Python\" telegram group (with id \"Python\")"
   ]
  },
  {
   "cell_type": "code",
   "execution_count": 8,
   "id": "caff4fbb-d82d-4ff0-974e-ee4dd3ed7538",
   "metadata": {},
   "outputs": [
    {
     "name": "stdout",
     "output_type": "stream",
     "text": [
      "cj 🚀\n",
      "Артур Фурт\n",
      "علي \n",
      "Charly Román\n",
      "George 392.85 °C\n",
      "ȺʍìɾⱮօհąʍʍąժ \n",
      "علي \n",
      "Bᴏᴛss \n",
      "Doragonsureiyā \n",
      "Bᴏᴛss \n"
     ]
    }
   ],
   "source": [
    "async with TelegramClient(\"simpatbos\", TELEGRAM_API_ID, TELEGRAM_API_HASH) as client:\n",
    "    channel_id = \"Python\"\n",
    "    limit = 10\n",
    "    async for message in client.iter_messages(channel_id, limit=limit):\n",
    "        print(message.sender.first_name if message.sender.first_name else \"\", \n",
    "              message.sender.last_name if message.sender.last_name else \"\")"
   ]
  },
  {
   "cell_type": "markdown",
   "id": "e7252c72-5db0-4894-948e-8a9fd31af097",
   "metadata": {},
   "source": [
    "### Getting Participants in a Channel\n",
    "The following code demonstrates how to iterate over the participants of the Python telegram group.\n",
    "```{note}\n",
    "There have been changes to the Telegram API that make this iterator sort of useless. As you can see, the following code only gets 16 users despite the fact that there are 100,000+ participants in the group as of writing this. \n",
    "```"
   ]
  },
  {
   "cell_type": "code",
   "execution_count": 9,
   "id": "cab01760-09db-4126-bfbc-3f2af9ba5adb",
   "metadata": {},
   "outputs": [
    {
     "name": "stdout",
     "output_type": "stream",
     "text": [
      "cj 🚀\n",
      "clouded \n",
      "Maxim N\n",
      "Charly Román\n",
      "Inuk Syooperstar\n",
      "Артём🇷🇺 \n",
      "steve raphael\n",
      "George 392.85 °C\n",
      "Samuel Bautista\n",
      "Doragonsureiyā \n",
      "Vivian - vivian@Bleachdrinker\n",
      "Rohan K\n",
      "⟨ Simon | Schürrle ⟩\n",
      "jcjordyn120 \n",
      "inchidi \n",
      "Fede \n"
     ]
    }
   ],
   "source": [
    "async with TelegramClient(\"simpatbos\", TELEGRAM_API_ID, TELEGRAM_API_HASH) as client:\n",
    "    channel_id = \"Python\"\n",
    "    async for user in client.iter_participants(channel_id):\n",
    "        print(user.first_name if user.first_name else \"\", \n",
    "              user.last_name if user.last_name else \"\")"
   ]
  },
  {
   "cell_type": "code",
   "execution_count": null,
   "id": "199e609c-a70d-429d-bf43-b28ccb2eb843",
   "metadata": {},
   "outputs": [],
   "source": []
  }
 ],
 "metadata": {
  "kernelspec": {
   "display_name": "Python 3 (ipykernel)",
   "language": "python",
   "name": "python3"
  },
  "language_info": {
   "codemirror_mode": {
    "name": "ipython",
    "version": 3
   },
   "file_extension": ".py",
   "mimetype": "text/x-python",
   "name": "python",
   "nbconvert_exporter": "python",
   "pygments_lexer": "ipython3",
   "version": "3.13.2"
  }
 },
 "nbformat": 4,
 "nbformat_minor": 5
}